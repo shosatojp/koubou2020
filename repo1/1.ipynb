{
 "cells": [
  {
   "cell_type": "code",
   "execution_count": 2,
   "metadata": {},
   "outputs": [
    {
     "name": "stdout",
     "output_type": "stream",
     "text": [
      "(0, 0) -> False\n",
      "(1, 0) -> True\n",
      "(0, 1) -> True\n",
      "(1, 1) -> False\n"
     ]
    }
   ],
   "source": [
    "import numpy as np\n",
    "\n",
    "\n",
    "def AND(x):\n",
    "    x = np.array(x)\n",
    "    w = np.array([0.5, 0.5])\n",
    "    b = -0.7\n",
    "    y = np.sum(w*x) + b\n",
    "    return y >= 0\n",
    "\n",
    "# (0, 0) -> False\n",
    "# (1, 0) -> False\n",
    "# (0, 1) -> False\n",
    "# (1, 1) -> True\n",
    "\n",
    "def NAND(x):\n",
    "    x = np.array(x)\n",
    "    w = np.array([-1, -1])\n",
    "    b = 1.4\n",
    "    y = np.sum(w*x) + b\n",
    "    return y >= 0\n",
    "\n",
    "# (0, 0) -> True\n",
    "# (1, 0) -> True\n",
    "# (0, 1) -> True\n",
    "# (1, 1) -> False\n",
    "\n",
    "def OR(x):\n",
    "    x = np.array(x)\n",
    "    w = np.array([1, 1])\n",
    "    b = -0.7\n",
    "    y = np.sum(w*x) + b\n",
    "    return y >= 0\n",
    "\n",
    "# (0, 0) -> False\n",
    "# (1, 0) -> True\n",
    "# (0, 1) -> True\n",
    "# (1, 1) -> True\n",
    "\n",
    "def XOR(x):\n",
    "    x = np.array(x)\n",
    "    return AND([NAND(x), OR(x)])\n",
    "\n",
    "# (0, 0) -> False\n",
    "# (1, 0) -> True\n",
    "# (0, 1) -> True\n",
    "# (1, 1) -> False\n",
    "\n",
    "if __name__ == '__main__':\n",
    "    for xs in [(0, 0), (1, 0), (0, 1), (1, 1)]:\n",
    "        out = XOR(xs)\n",
    "        print(str(xs) + \" -> \" + str(out))"
   ]
  },
  {
   "cell_type": "markdown",
   "metadata": {},
   "source": [
    "# 感想\n",
    "\n",
    "パーセプトロンの境界が関数で表されていることが理解できました。"
   ]
  }
 ],
 "metadata": {
  "kernelspec": {
   "display_name": "Python 3",
   "language": "python",
   "name": "python3"
  },
  "language_info": {
   "codemirror_mode": {
    "name": "ipython",
    "version": 3
   },
   "file_extension": ".py",
   "mimetype": "text/x-python",
   "name": "python",
   "nbconvert_exporter": "python",
   "pygments_lexer": "ipython3",
   "version": "3.8.2"
  }
 },
 "nbformat": 4,
 "nbformat_minor": 2
}
